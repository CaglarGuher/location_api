{
 "cells": [
  {
   "cell_type": "code",
   "execution_count": 125,
   "metadata": {},
   "outputs": [],
   "source": [
    "import googlemaps\n",
    "import pandas as pd\n",
    "import json\n",
    "from utils import *\n",
    "from api_key import api_key\n",
    "import polyline\n",
    "\n",
    "# Replace 'YOUR_API_KEY' with your actual API key\n"
   ]
  },
  {
   "cell_type": "code",
   "execution_count": 126,
   "metadata": {},
   "outputs": [],
   "source": [
    "# Replace \"api_key\" with your actual API key\n",
    "'''to get api key from google:Sign up for a Google Cloud account and enable the Maps API:\n",
    " Go to the Google Cloud Console (https://console.cloud.google.com) and create a new project.\n",
    "Enable the \"Maps JavaScript API\" and the \"Directions API\" for your project.\n",
    "'''\n",
    "#the billing is free for the first 300 dolars so do not worry about the pricing but still check the website billing\n",
    "#I think for this part billing can be closed anyway so no payment guaranteed\n",
    "\n",
    "api_key = api_key\n",
    "gmaps = googlemaps.Client(key=api_key)"
   ]
  },
  {
   "cell_type": "code",
   "execution_count": 127,
   "metadata": {},
   "outputs": [],
   "source": [
    "\n",
    "def data_collection_manual(searched_item):\n",
    "    total = []\n",
    "    df = gmaps.places(query = searched_item)\n",
    "    df = json.dumps(df)\n",
    "    df = json.loads(df)\n",
    "    df = pd.DataFrame(df[\"results\"])\n",
    "    total.append(df.iloc[:1])\n",
    "    df = pd.concat(total)\n",
    "    return df\n",
    "\n",
    "def get_lat_long(df):\n",
    "\n",
    "    df[\"Latitude\"] = df[\"geometry\"].astype(str).str.extract(':(.{,45})')\n",
    "    df[\"Latitude\"] = df[\"Latitude\"].str.split(',').str[0]\n",
    "    df[\"Latitude\"] = df[\"Latitude\"].str[8:]\n",
    "  \n",
    "    df[\"Longitude\"] = df[\"geometry\"].astype(str).str.split(\",\").str[1]\n",
    "    df[\"Longitude\"] = df[\"Longitude\"].astype(str).str[7:]\n",
    "    df[\"Longitude\"] = df[\"Longitude\"].astype(str).str[:-1]\n",
    "    return df[\"Latitude\"][0],df[\"Longitude\"][0]\n",
    "\n",
    "\n",
    "\n",
    "def get_road_distance(location1, location2):\n",
    "    location1_long_lat = get_lat_long(data_collection_manual(location1))\n",
    "    location2_long_lat  = get_lat_long(data_collection_manual(location2))\n",
    "    result = gmaps.distance_matrix(location1_long_lat, location2_long_lat, mode='driving')\n",
    "    distance = result['rows'][0]['elements'][0]['distance']['text']\n",
    "    return distance   "
   ]
  },
  {
   "cell_type": "code",
   "execution_count": 128,
   "metadata": {},
   "outputs": [
    {
     "data": {
      "text/html": [
       "<div>\n",
       "<style scoped>\n",
       "    .dataframe tbody tr th:only-of-type {\n",
       "        vertical-align: middle;\n",
       "    }\n",
       "\n",
       "    .dataframe tbody tr th {\n",
       "        vertical-align: top;\n",
       "    }\n",
       "\n",
       "    .dataframe thead th {\n",
       "        text-align: right;\n",
       "    }\n",
       "</style>\n",
       "<table border=\"1\" class=\"dataframe\">\n",
       "  <thead>\n",
       "    <tr style=\"text-align: right;\">\n",
       "      <th></th>\n",
       "      <th>business_status</th>\n",
       "      <th>formatted_address</th>\n",
       "      <th>geometry</th>\n",
       "      <th>icon</th>\n",
       "      <th>icon_background_color</th>\n",
       "      <th>icon_mask_base_uri</th>\n",
       "      <th>name</th>\n",
       "      <th>opening_hours</th>\n",
       "      <th>photos</th>\n",
       "      <th>place_id</th>\n",
       "      <th>plus_code</th>\n",
       "      <th>rating</th>\n",
       "      <th>reference</th>\n",
       "      <th>types</th>\n",
       "      <th>user_ratings_total</th>\n",
       "      <th>price_level</th>\n",
       "    </tr>\n",
       "  </thead>\n",
       "  <tbody>\n",
       "    <tr>\n",
       "      <th>0</th>\n",
       "      <td>OPERATIONAL</td>\n",
       "      <td>Gazi, Konya Devlet Yolu, Mevlana Blv. No:2, 06...</td>\n",
       "      <td>{'location': {'lat': 39.9504171, 'lng': 32.831...</td>\n",
       "      <td>https://maps.gstatic.com/mapfiles/place_api/ic...</td>\n",
       "      <td>#4B96F3</td>\n",
       "      <td>https://maps.gstatic.com/mapfiles/place_api/ic...</td>\n",
       "      <td>ANKAmall</td>\n",
       "      <td>{'open_now': True}</td>\n",
       "      <td>[{'height': 2240, 'html_attributions': ['&lt;a hr...</td>\n",
       "      <td>ChIJ3euM5ZVO0xQRilR8Be2HpLA</td>\n",
       "      <td>{'compound_code': 'XR2J+5G Yenimahalle, Ankara...</td>\n",
       "      <td>4.3</td>\n",
       "      <td>ChIJ3euM5ZVO0xQRilR8Be2HpLA</td>\n",
       "      <td>[shopping_mall, point_of_interest, establishment]</td>\n",
       "      <td>62000</td>\n",
       "      <td>NaN</td>\n",
       "    </tr>\n",
       "  </tbody>\n",
       "</table>\n",
       "</div>"
      ],
      "text/plain": [
       "  business_status                                  formatted_address  \\\n",
       "0     OPERATIONAL  Gazi, Konya Devlet Yolu, Mevlana Blv. No:2, 06...   \n",
       "\n",
       "                                            geometry  \\\n",
       "0  {'location': {'lat': 39.9504171, 'lng': 32.831...   \n",
       "\n",
       "                                                icon icon_background_color  \\\n",
       "0  https://maps.gstatic.com/mapfiles/place_api/ic...               #4B96F3   \n",
       "\n",
       "                                  icon_mask_base_uri      name  \\\n",
       "0  https://maps.gstatic.com/mapfiles/place_api/ic...  ANKAmall   \n",
       "\n",
       "        opening_hours                                             photos  \\\n",
       "0  {'open_now': True}  [{'height': 2240, 'html_attributions': ['<a hr...   \n",
       "\n",
       "                      place_id  \\\n",
       "0  ChIJ3euM5ZVO0xQRilR8Be2HpLA   \n",
       "\n",
       "                                           plus_code  rating  \\\n",
       "0  {'compound_code': 'XR2J+5G Yenimahalle, Ankara...     4.3   \n",
       "\n",
       "                     reference  \\\n",
       "0  ChIJ3euM5ZVO0xQRilR8Be2HpLA   \n",
       "\n",
       "                                               types  user_ratings_total  \\\n",
       "0  [shopping_mall, point_of_interest, establishment]               62000   \n",
       "\n",
       "   price_level  \n",
       "0          NaN  "
      ]
     },
     "execution_count": 128,
     "metadata": {},
     "output_type": "execute_result"
    }
   ],
   "source": [
    "data_collection_manual(\"ankamall avm\")"
   ]
  },
  {
   "cell_type": "code",
   "execution_count": 129,
   "metadata": {},
   "outputs": [
    {
     "data": {
      "text/plain": [
       "39.9504171"
      ]
     },
     "execution_count": 129,
     "metadata": {},
     "output_type": "execute_result"
    }
   ],
   "source": [
    "float(get_lat_long(data_collection_manual(\"ankamall avm\"))[0])"
   ]
  },
  {
   "cell_type": "code",
   "execution_count": 130,
   "metadata": {},
   "outputs": [
    {
     "data": {
      "text/plain": [
       "'22.9 km'"
      ]
     },
     "execution_count": 130,
     "metadata": {},
     "output_type": "execute_result"
    }
   ],
   "source": [
    "get_road_distance(\"ankamall avm\",\"metromall avm\")"
   ]
  },
  {
   "cell_type": "code",
   "execution_count": 131,
   "metadata": {},
   "outputs": [
    {
     "data": {
      "text/plain": [
       "'20.3 km'"
      ]
     },
     "execution_count": 131,
     "metadata": {},
     "output_type": "execute_result"
    }
   ],
   "source": [
    "get_road_distance(\"çankaya belediyesi\",\"etimesgut belediyesi\")"
   ]
  },
  {
   "cell_type": "code",
   "execution_count": 133,
   "metadata": {},
   "outputs": [],
   "source": [
    "import folium\n",
    "\n",
    "def visualize_route(origin_lat, origin_lng, destination_lat, destination_lng):\n",
    "    \n",
    "    directions = gmaps.directions(\n",
    "        (origin_lat, origin_lng),\n",
    "        (destination_lat, destination_lng),\n",
    "        mode='driving'\n",
    "    )\n",
    "\n",
    "    # Extract the polyline from the directions response\n",
    "    polyline_points = directions[0]['overview_polyline']['points']\n",
    "\n",
    "    # Decode the polyline (ı had an error before decoding so ı had to decode it \n",
    "    decoded_polyline = polyline.decode(polyline_points)\n",
    "\n",
    "    #initial map \n",
    "    my_map = folium.Map(location=[origin_lat, origin_lng], zoom_start=10)\n",
    "\n",
    "    # Markers for locations \n",
    "    folium.Marker([origin_lat, origin_lng], tooltip='Origin').add_to(my_map)\n",
    "    folium.Marker([destination_lat, destination_lng], tooltip='Destination').add_to(my_map)\n",
    "\n",
    "    # Plotting\n",
    "    folium.PolyLine(locations=decoded_polyline, color='blue', weight=5).add_to(my_map)\n",
    "\n",
    "    \n",
    "    return my_map\n",
    "\n"
   ]
  },
  {
   "cell_type": "code",
   "execution_count": 135,
   "metadata": {},
   "outputs": [
    {
     "data": {
      "text/html": [
       "<div style=\"width:100%;\"><div style=\"position:relative;width:100%;height:0;padding-bottom:60%;\"><span style=\"color:#565656\">Make this Notebook Trusted to load map: File -> Trust Notebook</span><iframe srcdoc=\"&lt;!DOCTYPE html&gt;\n",
       "&lt;html&gt;\n",
       "&lt;head&gt;\n",
       "    \n",
       "    &lt;meta http-equiv=&quot;content-type&quot; content=&quot;text/html; charset=UTF-8&quot; /&gt;\n",
       "    \n",
       "        &lt;script&gt;\n",
       "            L_NO_TOUCH = false;\n",
       "            L_DISABLE_3D = false;\n",
       "        &lt;/script&gt;\n",
       "    \n",
       "    &lt;style&gt;html, body {width: 100%;height: 100%;margin: 0;padding: 0;}&lt;/style&gt;\n",
       "    &lt;style&gt;#map {position:absolute;top:0;bottom:0;right:0;left:0;}&lt;/style&gt;\n",
       "    &lt;script src=&quot;https://cdn.jsdelivr.net/npm/leaflet@1.6.0/dist/leaflet.js&quot;&gt;&lt;/script&gt;\n",
       "    &lt;script src=&quot;https://code.jquery.com/jquery-1.12.4.min.js&quot;&gt;&lt;/script&gt;\n",
       "    &lt;script src=&quot;https://maxcdn.bootstrapcdn.com/bootstrap/3.2.0/js/bootstrap.min.js&quot;&gt;&lt;/script&gt;\n",
       "    &lt;script src=&quot;https://cdnjs.cloudflare.com/ajax/libs/Leaflet.awesome-markers/2.0.2/leaflet.awesome-markers.js&quot;&gt;&lt;/script&gt;\n",
       "    &lt;link rel=&quot;stylesheet&quot; href=&quot;https://cdn.jsdelivr.net/npm/leaflet@1.6.0/dist/leaflet.css&quot;/&gt;\n",
       "    &lt;link rel=&quot;stylesheet&quot; href=&quot;https://maxcdn.bootstrapcdn.com/bootstrap/3.2.0/css/bootstrap.min.css&quot;/&gt;\n",
       "    &lt;link rel=&quot;stylesheet&quot; href=&quot;https://maxcdn.bootstrapcdn.com/bootstrap/3.2.0/css/bootstrap-theme.min.css&quot;/&gt;\n",
       "    &lt;link rel=&quot;stylesheet&quot; href=&quot;https://maxcdn.bootstrapcdn.com/font-awesome/4.6.3/css/font-awesome.min.css&quot;/&gt;\n",
       "    &lt;link rel=&quot;stylesheet&quot; href=&quot;https://cdnjs.cloudflare.com/ajax/libs/Leaflet.awesome-markers/2.0.2/leaflet.awesome-markers.css&quot;/&gt;\n",
       "    &lt;link rel=&quot;stylesheet&quot; href=&quot;https://cdn.jsdelivr.net/gh/python-visualization/folium/folium/templates/leaflet.awesome.rotate.min.css&quot;/&gt;\n",
       "    \n",
       "            &lt;meta name=&quot;viewport&quot; content=&quot;width=device-width,\n",
       "                initial-scale=1.0, maximum-scale=1.0, user-scalable=no&quot; /&gt;\n",
       "            &lt;style&gt;\n",
       "                #map_cf771fbb8ad383be5aae92315ad67652 {\n",
       "                    position: relative;\n",
       "                    width: 100.0%;\n",
       "                    height: 100.0%;\n",
       "                    left: 0.0%;\n",
       "                    top: 0.0%;\n",
       "                }\n",
       "            &lt;/style&gt;\n",
       "        \n",
       "&lt;/head&gt;\n",
       "&lt;body&gt;\n",
       "    \n",
       "    \n",
       "            &lt;div class=&quot;folium-map&quot; id=&quot;map_cf771fbb8ad383be5aae92315ad67652&quot; &gt;&lt;/div&gt;\n",
       "        \n",
       "&lt;/body&gt;\n",
       "&lt;script&gt;\n",
       "    \n",
       "    \n",
       "            var map_cf771fbb8ad383be5aae92315ad67652 = L.map(\n",
       "                &quot;map_cf771fbb8ad383be5aae92315ad67652&quot;,\n",
       "                {\n",
       "                    center: [39.9504171, 32.8312831],\n",
       "                    crs: L.CRS.EPSG3857,\n",
       "                    zoom: 10,\n",
       "                    zoomControl: true,\n",
       "                    preferCanvas: false,\n",
       "                }\n",
       "            );\n",
       "\n",
       "            \n",
       "\n",
       "        \n",
       "    \n",
       "            var tile_layer_72058d742b655ed68cc13b1e01ecdaa0 = L.tileLayer(\n",
       "                &quot;https://{s}.tile.openstreetmap.org/{z}/{x}/{y}.png&quot;,\n",
       "                {&quot;attribution&quot;: &quot;Data by \\u0026copy; \\u003ca href=\\&quot;http://openstreetmap.org\\&quot;\\u003eOpenStreetMap\\u003c/a\\u003e, under \\u003ca href=\\&quot;http://www.openstreetmap.org/copyright\\&quot;\\u003eODbL\\u003c/a\\u003e.&quot;, &quot;detectRetina&quot;: false, &quot;maxNativeZoom&quot;: 18, &quot;maxZoom&quot;: 18, &quot;minZoom&quot;: 0, &quot;noWrap&quot;: false, &quot;opacity&quot;: 1, &quot;subdomains&quot;: &quot;abc&quot;, &quot;tms&quot;: false}\n",
       "            ).addTo(map_cf771fbb8ad383be5aae92315ad67652);\n",
       "        \n",
       "    \n",
       "            var marker_0c0b13b1a53909125fa1a2261fc7c067 = L.marker(\n",
       "                [39.9504171, 32.8312831],\n",
       "                {}\n",
       "            ).addTo(map_cf771fbb8ad383be5aae92315ad67652);\n",
       "        \n",
       "    \n",
       "            marker_0c0b13b1a53909125fa1a2261fc7c067.bindTooltip(\n",
       "                `&lt;div&gt;\n",
       "                     Origin\n",
       "                 &lt;/div&gt;`,\n",
       "                {&quot;sticky&quot;: true}\n",
       "            );\n",
       "        \n",
       "    \n",
       "            var marker_91765f7eef6698d7cf03cc778abdebfb = L.marker(\n",
       "                [39.983115, 32.6108302],\n",
       "                {}\n",
       "            ).addTo(map_cf771fbb8ad383be5aae92315ad67652);\n",
       "        \n",
       "    \n",
       "            marker_91765f7eef6698d7cf03cc778abdebfb.bindTooltip(\n",
       "                `&lt;div&gt;\n",
       "                     Destination\n",
       "                 &lt;/div&gt;`,\n",
       "                {&quot;sticky&quot;: true}\n",
       "            );\n",
       "        \n",
       "    \n",
       "            var poly_line_6b73f6fcb0fee2669ac1f5a5d83155f8 = L.polyline(\n",
       "                [[39.95045, 32.8323], [39.95011, 32.8323], [39.94992, 32.83228], [39.94953, 32.83227], [39.94939, 32.83231], [39.94887, 32.83323], [39.9485, 32.83292], [39.94729, 32.83185], [39.94695, 32.83152], [39.94696, 32.83148], [39.94697, 32.83146], [39.94696, 32.83139], [39.94697, 32.83126], [39.94709, 32.831], [39.94714, 32.8308], [39.94715, 32.8307], [39.94713, 32.83049], [39.94699, 32.83005], [39.94697, 32.82992], [39.94698, 32.82981], [39.94712, 32.82938], [39.94714, 32.82927], [39.94729, 32.82908], [39.94798, 32.82817], [39.94825, 32.82778], [39.94951, 32.82604], [39.95147, 32.82338], [39.95246, 32.82223], [39.95295, 32.82171], [39.95388, 32.82084], [39.95469, 32.82021], [39.95482, 32.82009], [39.95492, 32.82001], [39.95515, 32.82001], [39.95535, 32.82007], [39.95549, 32.82022], [39.95556, 32.82042], [39.95556, 32.82059], [39.95552, 32.82076], [39.95542, 32.82092], [39.95528, 32.82102], [39.95513, 32.82105], [39.95498, 32.82101], [39.95485, 32.82088], [39.95469, 32.82048], [39.95442, 32.81782], [39.95394, 32.81342], [39.95366, 32.81105], [39.95358, 32.81024], [39.95347, 32.80913], [39.95283, 32.80314], [39.95263, 32.80154], [39.95206, 32.79774], [39.95198, 32.79719], [39.95191, 32.79655], [39.95172, 32.79536], [39.9515, 32.79397], [39.9514, 32.79342], [39.95108, 32.79214], [39.951, 32.79189], [39.95058, 32.79086], [39.94946, 32.78865], [39.9488, 32.78729], [39.94818, 32.78604], [39.94771, 32.7849], [39.94752, 32.78434], [39.94734, 32.78372], [39.94716, 32.78282], [39.94704, 32.78218], [39.94659, 32.7797], [39.94619, 32.77733], [39.94537, 32.77279], [39.9453, 32.77228], [39.94507, 32.77002], [39.94504, 32.76878], [39.94504, 32.76699], [39.94502, 32.76373], [39.94504, 32.762], [39.94503, 32.76141], [39.94506, 32.75994], [39.94509, 32.75495], [39.94514, 32.75084], [39.94516, 32.74635], [39.94519, 32.74393], [39.94518, 32.7421], [39.94521, 32.73916], [39.94529, 32.73195], [39.94535, 32.72828], [39.94534, 32.72752], [39.94535, 32.7265], [39.94538, 32.72303], [39.94539, 32.71943], [39.94544, 32.71666], [39.94545, 32.71509], [39.94553, 32.71381], [39.9457, 32.71256], [39.94591, 32.71132], [39.94614, 32.71036], [39.94636, 32.70957], [39.94651, 32.70912], [39.94684, 32.70818], [39.94731, 32.70704], [39.94778, 32.70609], [39.94835, 32.70505], [39.94936, 32.7035], [39.95, 32.70261], [39.95048, 32.70181], [39.95091, 32.701], [39.95157, 32.70003], [39.95174, 32.69981], [39.9526, 32.69841], [39.95323, 32.69734], [39.95416, 32.69582], [39.95497, 32.69457], [39.9553, 32.69409], [39.95606, 32.69285], [39.95651, 32.69215], [39.9585, 32.68897], [39.95888, 32.68831], [39.95902, 32.68806], [39.95922, 32.68791], [39.95955, 32.68738], [39.95997, 32.68687], [39.96062, 32.68631], [39.96254, 32.68482], [39.963, 32.68437], [39.96344, 32.68395], [39.96359, 32.68375], [39.96375, 32.68349], [39.96382, 32.68332], [39.96388, 32.68308], [39.96392, 32.68257], [39.96386, 32.68207], [39.96367, 32.6807], [39.96359, 32.68058], [39.96352, 32.67943], [39.9635, 32.6788], [39.96332, 32.67475], [39.96323, 32.67215], [39.96311, 32.66969], [39.96304, 32.66758], [39.96304, 32.66653], [39.96304, 32.66536], [39.96292, 32.66224], [39.96287, 32.661], [39.96284, 32.65895], [39.96287, 32.65788], [39.96294, 32.65684], [39.96309, 32.65516], [39.96319, 32.65413], [39.9634, 32.65233], [39.96395, 32.64693], [39.96403, 32.64606], [39.96413, 32.64529], [39.96442, 32.64332], [39.96469, 32.64174], [39.96499, 32.64001], [39.96527, 32.63853], [39.96578, 32.63581], [39.9659, 32.63505], [39.96608, 32.63414], [39.96621, 32.63346], [39.9664, 32.63253], [39.9665, 32.63224], [39.96677, 32.63102], [39.96707, 32.62957], [39.96709, 32.62928], [39.96722, 32.62875], [39.9675, 32.62763], [39.96796, 32.62602], [39.96821, 32.62527], [39.96841, 32.62454], [39.96856, 32.62375], [39.96866, 32.62289], [39.96879, 32.62127], [39.96905, 32.61719], [39.96919, 32.61558], [39.96941, 32.61417], [39.96961, 32.61301], [39.96967, 32.61257], [39.96977, 32.61239], [39.97045, 32.60938], [39.97085, 32.6089], [39.97099, 32.60877], [39.97118, 32.60864], [39.9718, 32.60856], [39.97311, 32.60851], [39.97403, 32.60854], [39.97508, 32.60849], [39.97628, 32.60843], [39.97651, 32.60835], [39.97671, 32.60843], [39.97698, 32.60863], [39.97777, 32.60936], [39.97936, 32.61081], [39.97994, 32.61138], [39.98005, 32.61145], [39.98014, 32.61146], [39.98029, 32.61144], [39.98048, 32.61137], [39.9806, 32.61128], [39.98085, 32.61098], [39.98118, 32.61055], [39.98148, 32.61015], [39.98218, 32.6093], [39.9821, 32.61149], [39.98242, 32.6115], [39.98263, 32.61153], [39.98294, 32.61161]],\n",
       "                {&quot;bubblingMouseEvents&quot;: true, &quot;color&quot;: &quot;blue&quot;, &quot;dashArray&quot;: null, &quot;dashOffset&quot;: null, &quot;fill&quot;: false, &quot;fillColor&quot;: &quot;blue&quot;, &quot;fillOpacity&quot;: 0.2, &quot;fillRule&quot;: &quot;evenodd&quot;, &quot;lineCap&quot;: &quot;round&quot;, &quot;lineJoin&quot;: &quot;round&quot;, &quot;noClip&quot;: false, &quot;opacity&quot;: 1.0, &quot;smoothFactor&quot;: 1.0, &quot;stroke&quot;: true, &quot;weight&quot;: 5}\n",
       "            ).addTo(map_cf771fbb8ad383be5aae92315ad67652);\n",
       "        \n",
       "&lt;/script&gt;\n",
       "&lt;/html&gt;\" style=\"position:absolute;width:100%;height:100%;left:0;top:0;border:none !important;\" allowfullscreen webkitallowfullscreen mozallowfullscreen></iframe></div></div>"
      ],
      "text/plain": [
       "<folium.folium.Map at 0x2ea80b28190>"
      ]
     },
     "execution_count": 135,
     "metadata": {},
     "output_type": "execute_result"
    }
   ],
   "source": [
    "visualize_route(float(get_lat_long(data_collection_manual(\"ankamall avm\"))[0]),float(get_lat_long(data_collection_manual(\"ankamall avm\"))[1])\n",
    "                ,float(get_lat_long(data_collection_manual(\"metromall avm\"))[0]),float(get_lat_long(data_collection_manual(\"metromall\"))[1]))"
   ]
  }
 ],
 "metadata": {
  "kernelspec": {
   "display_name": "machine_learn",
   "language": "python",
   "name": "python3"
  },
  "language_info": {
   "codemirror_mode": {
    "name": "ipython",
    "version": 3
   },
   "file_extension": ".py",
   "mimetype": "text/x-python",
   "name": "python",
   "nbconvert_exporter": "python",
   "pygments_lexer": "ipython3",
   "version": "3.9.15"
  },
  "orig_nbformat": 4
 },
 "nbformat": 4,
 "nbformat_minor": 2
}
